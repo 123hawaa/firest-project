{
  "nbformat": 4,
  "nbformat_minor": 0,
  "metadata": {
    "colab": {
      "provenance": [],
      "authorship_tag": "ABX9TyOHKIJ7qO0g+64czLQEtbA9",
      "include_colab_link": true
    },
    "kernelspec": {
      "name": "python3",
      "display_name": "Python 3"
    },
    "language_info": {
      "name": "python"
    }
  },
  "cells": [
    {
      "cell_type": "markdown",
      "metadata": {
        "id": "view-in-github",
        "colab_type": "text"
      },
      "source": [
        "<a href=\"https://colab.research.google.com/github/123hawaa/firest-project/blob/main/linear_regression_algo.ipynb\" target=\"_parent\"><img src=\"https://colab.research.google.com/assets/colab-badge.svg\" alt=\"Open In Colab\"/></a>"
      ]
    },
    {
      "cell_type": "code",
      "metadata": {
        "colab": {
          "base_uri": "https://localhost:8080/",
          "height": 283
        },
        "id": "bF38xPPQdWA4",
        "outputId": "50cd23f8-23fe-4675-98ce-18526896dedd"
      },
      "source": [
        "from statistics import mean\n",
        "import numpy as np\n",
        "import matplotlib.pyplot as plt\n",
        "from matplotlib import style\n",
        "style.use('fivethirtyeight')\n",
        "\n",
        "x=np.array([1,2,3,4,5,6],dtype='float64')\n",
        "y=np.array([5,4,6,5,6,7],dtype='float64')\n",
        "def best_fit_slop(x,y):\n",
        "    m=((mean(x)*mean(y))-mean(x*y)) / ((mean(x)**2) -mean(x*x))\n",
        "    b=mean(y) - m * mean(x)\n",
        "    return m ,b\n",
        "\n",
        "b,m=best_fit_slop(x,y)\n",
        "regerssion_line= [(m*x)+b for xs in x]\n",
        "plt.scatter(x,y)\n",
        "plt.plot(x,regerssion_line)\n",
        "plt.show()\n",
        "\n"
      ],
      "execution_count": null,
      "outputs": [
        {
          "output_type": "display_data",
          "data": {
            "image/png": "[encoded data removed]",
            "text/plain": [
              "<Figure size 432x288 with 1 Axes>"
            ]
          },
          "metadata": {
            "tags": []
          }
        }
      ]
    }
  ]
}